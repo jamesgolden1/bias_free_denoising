{
 "cells": [
  {
   "cell_type": "code",
   "execution_count": 1,
   "metadata": {},
   "outputs": [],
   "source": [
    "import torch\n",
    "import numpy as np\n",
    "import matplotlib.pyplot as plt\n",
    "from torch.autograd import grad"
   ]
  },
  {
   "cell_type": "code",
   "execution_count": 2,
   "metadata": {},
   "outputs": [],
   "source": [
    "def hyperboloid():\n",
    "    stpt = .25;#-.9-0.5\n",
    "\n",
    "    stepsz = .125/6;\n",
    "    endpt = 2.875/4-stepsz/2;#-1.275;%-.9+0.5\n",
    "    endpt\n",
    "\n",
    "    (endpt-stpt)//stepsz\n",
    "\n",
    "\n",
    "    numpts = 30\n",
    "    maxp = 1.5\n",
    "    # nx, ny, nz = (numpts, numpts, numpts)\n",
    "    xl = np.linspace(stpt, endpt, 1+int((endpt-stpt)//stepsz))\n",
    "    yl = np.linspace(stpt, endpt, 1+int((endpt-stpt)//stepsz))\n",
    "    # zl = np.linspace(0, endpt, numpts)\n",
    "\n",
    "    xv, yv = np.meshgrid(xl, yl)\n",
    "\n",
    "    # xvt, yvt = np.meshgrid(yl, xl)\n",
    "\n",
    "    xli = np.linspace(1, int((endpt-stpt)//stepsz),dtype='int')\n",
    "    yli = np.linspace(1, int((endpt-stpt)//stepsz),dtype='int')\n",
    "    # zl = np.linspace(0, endpt, numpts)\n",
    "\n",
    "    xvind, yvind = np.meshgrid(xli, yli)\n",
    "\n",
    "#     max(xvind.flatten())\n",
    "\n",
    "#     xv[-1,-1]\n",
    "\n",
    "    # w = sqrt(.2*(-1 + (x(1).^2/.1 + x(2).^2/.1)));\n",
    "\n",
    "#     zv = np.sqrt(.2*((np.power(xv.flatten(),2))/.1 + (np.power(yv.flatten(),2))/.1- 1))\n",
    "    zv = np.sqrt(.2*((np.power(xv,2))/.1 + (np.power(yv,2))/.1- 1))\n",
    "    \n",
    "    return xv,yv,zv"
   ]
  },
  {
   "cell_type": "code",
   "execution_count": 3,
   "metadata": {},
   "outputs": [],
   "source": [
    "def grad_hess(xv,yv,zv):\n",
    "    \n",
    "    ygrad = np.zeros(np.shape(xv)+(2,))\n",
    "    yhess = np.zeros(np.shape(xv)+(4,))\n",
    "    # for xi,xvi in enumerate(xv.flatten()[:]):\n",
    "    # #     for yi,yvi in enumerate(yv.flatten()[:]):\n",
    "\n",
    "\n",
    "    for xindi in range(len(xv[0,:])):\n",
    "        for yindi in range(len(yv[0,:])):\n",
    "            x = torch.autograd.Variable(torch.Tensor([xv[xindi,yindi],yv[xindi,yindi]]),requires_grad=True)\n",
    "    #         y = torch.sqrt_(x[0]**2 + x[1]**2 - 1)\n",
    "            y = torch.sqrt_(0.2*((x[0]**2)/0.1 + (x[1]**2)/0.1 - 1))\n",
    "\n",
    "            x_1grad, = grad(y, x, create_graph=True,retain_graph=True)\n",
    "    #         ygrad[xi,:]=x_1grad.data.numpy()\n",
    "            ygrad[xindi,yindi,:]=x_1grad.data.numpy()\n",
    "\n",
    "            x_2grad0, = grad(x_1grad[0], x, create_graph=True)\n",
    "            x_2grad1, = grad(x_1grad[1], x, create_graph=True)\n",
    "            yhess[xindi,yindi,:2]=x_2grad0.data.numpy()\n",
    "            yhess[xindi,yindi,2:4]=x_2grad1.data.numpy()\n",
    "            \n",
    "    return ygrad, yhess"
   ]
  },
  {
   "cell_type": "code",
   "execution_count": 4,
   "metadata": {},
   "outputs": [],
   "source": [
    "def curvature(ygrad, yhess):\n",
    "    ygradrs = np.reshape(ygrad, np.shape(xv)+(2,))\n",
    "    yhessrs = np.reshape(yhess,np.shape(xv)+(4,))\n",
    "\n",
    "    SXU=np.ones_like((xv)); SXV=np.zeros_like((xv)); # partial derivatives of SX\n",
    "    SYU=np.zeros_like((xv)); SYV=np.ones_like((xv)); # partial derivatives of SY\n",
    "\n",
    "    # SXU=np.ones_like((xv.flatten())); SXV=np.zeros_like((xv.flatten())); # partial derivatives of SX\n",
    "    # SYU=np.zeros_like((xv.flatten())); SYV=np.ones_like((xv.flatten())); # partial derivatives of SY\n",
    "\n",
    "    SU = np.zeros(np.shape(xv)+(3,))\n",
    "    SV = np.zeros_like(SU)\n",
    "\n",
    "    SU[:,:,0] = SXU\n",
    "    SU[:,:,1] = SYU\n",
    "\n",
    "    SU[:,:,2] = ygradrs[:,:,0]\n",
    "    # SU[:,:,2] = np.reshape(ygrad[:,0],[22,22])\n",
    "\n",
    "    SV[:,:,0] = SXV\n",
    "    SV[:,:,1] = SYV\n",
    "    SV[:,:,2] = ygradrs[:,:,1]\n",
    "    # SV[:,:,2] = np.reshape(ygrad[:,1],[22,22])\n",
    "    \n",
    "#     print(SU[0,1,:],SV[0,1,:])\n",
    "    print(SU[12,12,:],SV[12,12,:])\n",
    "    \n",
    "    CUV=np.zeros(np.shape(xv)+(3,))\n",
    "    AC=np.zeros(np.shape(xv))\n",
    "    E,F,G = np.zeros(np.shape(xv)),np.zeros(np.shape(xv)),np.zeros(np.shape(xv))\n",
    "\n",
    "    # for xi,xvi in enumerate(xv.flatten()):\n",
    "    #     for yi,yvi in enumerate(xv[:,0]):\n",
    "    for xindi in range(len(xv[0,:])):\n",
    "        for yindi in range(len(yv[0,:])):\n",
    "    #         xindi,yindi = xvind.flatten()[xi]-1,yvind.flatten()[xi]-1\n",
    "            v1 = SU[xindi,yindi,:];\n",
    "            v2 = SV[xindi,yindi,:];\n",
    "\n",
    "            V = np.zeros([2,2])\n",
    "            V[0,:] = v1[:2]\n",
    "            V[1,:] = v2[:2]\n",
    "\n",
    "            xvv = [v1[2], v2[2]]\n",
    "\n",
    "            sn = np.zeros([3,1])\n",
    "            sn[:2,0] = np.matmul(V,xvv); sn[2] = -1;\n",
    "            CUV[xindi,yindi,:] = np.squeeze(sn)#./norm(sn);\n",
    "            AC[xindi,yindi] = np.linalg.norm(sn)\n",
    "\n",
    "            E[xindi,yindi] = np.dot(SU[xindi,yindi],SU[xindi,yindi])\n",
    "            F[xindi,yindi] = np.dot(SU[xindi,yindi],SV[xindi,yindi])\n",
    "            G[xindi,yindi] = np.dot(SV[xindi,yindi],SV[xindi,yindi])\n",
    "            \n",
    "            \n",
    "    L,M,N = np.zeros(np.shape(xv)),np.zeros(np.shape(xv)),np.zeros(np.shape(xv))\n",
    "    for xi,xvi in enumerate(xv[0,:]):\n",
    "        for yi,yvi in enumerate(xv[:,0]):\n",
    "            Ni = CUV[xi,yi,:]/AC[xi,yi]\n",
    "            L[xi,yi] = -np.dot(Ni, [0,0,yhessrs[xi,yi,0]])\n",
    "            M[xi,yi] = -0.5*( np.dot(Ni, [0,0,yhessrs[xi,yi,1]]) + np.dot(Ni, [0,0,yhessrs[xi,yi,2]]))\n",
    "            N[xi,yi] = -np.dot(Ni, [0,0,yhessrs[xi,yi,3]])\n",
    "            \n",
    "            # for xi,xvi in enumerate(xv.flatten()):\n",
    "    #     for yi,yvi in enumerate(xv[:,0]):\n",
    "    kall =np.zeros_like(xv)\n",
    "    for xindi in range(len(xv[0,:])):\n",
    "        for yindi in range(len(yv[0,:])):\n",
    "    #         if not (xindi==0 and yindi ==0):\n",
    "            I = [[E[xindi,yindi], F[xindi,yindi]],[F[xindi,yindi], G[xindi,yindi]]]\n",
    "            II = [[L[xindi,yindi], M[xindi,yindi]],[M[xindi,yindi], N[xindi,yindi]]]\n",
    "            SO = np.linalg.lstsq(I,II,rcond=None)[0]\n",
    "    #         SO = np.matmul(np.linalg.inv(I),II)#[0]\n",
    "            SOnan = np.max(np.isnan(SO).flatten())\n",
    "    #         kd,KM=np.linalg.eig(SO);\n",
    "            kd=np.linalg.eigvals(SO);\n",
    "    #         kall.append(kd[0]*kd[1])\n",
    "            kall[xindi,yindi]=kd[0]*kd[1]\n",
    "        \n",
    "    print(I)\n",
    "    print(CUV[12,12])\n",
    "    print([[E[12,12], F[12,12]],[F[12,12], G[12,12]]])\n",
    "    print([[L[12,12], M[12,12]],[M[12,12], N[12,12]]])\n",
    "    return kall"
   ]
  },
  {
   "cell_type": "code",
   "execution_count": 5,
   "metadata": {},
   "outputs": [],
   "source": [
    "xv,yv,zv = hyperboloid()"
   ]
  },
  {
   "cell_type": "code",
   "execution_count": 6,
   "metadata": {},
   "outputs": [],
   "source": [
    "ygrad, yhess = grad_hess(xv,yv,zv)"
   ]
  },
  {
   "cell_type": "code",
   "execution_count": 7,
   "metadata": {},
   "outputs": [
    {
     "data": {
      "text/plain": [
       "(23, 23)"
      ]
     },
     "execution_count": 7,
     "metadata": {},
     "output_type": "execute_result"
    }
   ],
   "source": [
    "np.shape(xv)"
   ]
  },
  {
   "cell_type": "code",
   "execution_count": 8,
   "metadata": {},
   "outputs": [
    {
     "data": {
      "text/plain": [
       "((23, 23, 2), (23, 23, 4))"
      ]
     },
     "execution_count": 8,
     "metadata": {},
     "output_type": "execute_result"
    }
   ],
   "source": [
    "np.shape(ygrad),np.shape(yhess)"
   ]
  },
  {
   "cell_type": "code",
   "execution_count": 61,
   "metadata": {},
   "outputs": [
    {
     "data": {
      "text/plain": [
       "numpy.float64"
      ]
     },
     "execution_count": 61,
     "metadata": {},
     "output_type": "execute_result"
    }
   ],
   "source": [
    "type(kall[0,0])"
   ]
  },
  {
   "cell_type": "code",
   "execution_count": null,
   "metadata": {},
   "outputs": [],
   "source": []
  },
  {
   "cell_type": "code",
   "execution_count": 9,
   "metadata": {},
   "outputs": [
    {
     "name": "stdout",
     "output_type": "stream",
     "text": [
      "[1.         0.         1.11803401] [0.         1.         1.11803401]\n",
      "[[2.110684110712157, 1.1106841107121568], [1.1106841107121568, 2.110684110712157]]\n",
      "[ 1.11803401  1.11803401 -1.        ]\n",
      "[[2.250000036705515, 1.250000036705515], [1.250000036705515, 2.250000036705515]]\n",
      "[[0.4482106825905703, -0.7470179317577069], [-0.7470179317577069, 0.4482106825905703]]\n"
     ]
    }
   ],
   "source": [
    "kall = curvature(ygrad,yhess)"
   ]
  },
  {
   "cell_type": "code",
   "execution_count": 10,
   "metadata": {},
   "outputs": [],
   "source": [
    "\n",
    "kall_analytic = -.2**1/((.2**1+(.3)*(zv/(np.sqrt(.2)))**2)**2);"
   ]
  },
  {
   "cell_type": "code",
   "execution_count": 26,
   "metadata": {},
   "outputs": [],
   "source": [
    "%matplotlib inline"
   ]
  },
  {
   "cell_type": "code",
   "execution_count": 48,
   "metadata": {},
   "outputs": [
    {
     "data": {
      "text/plain": [
       "(4.960534039089026e-07, 5.249217911395337e-08, 6.301722872340267e-08)"
      ]
     },
     "execution_count": 48,
     "metadata": {},
     "output_type": "execute_result"
    }
   ],
   "source": [
    "np.max(np.abs((kall_analytic.flatten()- kall.flatten()))),np.mean(np.abs((kall_analytic.flatten()- kall.flatten()))),np.std(np.abs((kall_analytic.flatten()- kall.flatten())))"
   ]
  },
  {
   "cell_type": "code",
   "execution_count": 56,
   "metadata": {},
   "outputs": [
    {
     "data": {
      "text/plain": [
       "Text(0, 0.5, 'Error Curvature')"
      ]
     },
     "execution_count": 56,
     "metadata": {},
     "output_type": "execute_result"
    },
    {
     "data": {
      "image/png": "[encoded data removed]",
      "text/plain": [
       "<Figure size 432x288 with 1 Axes>"
      ]
     },
     "metadata": {
      "needs_background": "light"
     },
     "output_type": "display_data"
    }
   ],
   "source": [
    "plt.scatter(np.abs(kall.flatten()),np.abs(kall_analytic.flatten()- kall.flatten()))#,bins=40)\n",
    "plt.xscale('log')\n",
    "plt.yscale('log')\n",
    "plt.grid()\n",
    "plt.xlabel('Predicted Curvature')\n",
    "plt.ylabel('Error Curvature')"
   ]
  },
  {
   "cell_type": "code",
   "execution_count": 59,
   "metadata": {},
   "outputs": [
    {
     "data": {
      "text/plain": [
       "Text(0, 0.5, 'Error Curvature/Curvature')"
      ]
     },
     "execution_count": 59,
     "metadata": {},
     "output_type": "execute_result"
    },
    {
     "data": {
      "image/png": "[encoded data removed]",
      "text/plain": [
       "<Figure size 432x288 with 1 Axes>"
      ]
     },
     "metadata": {
      "needs_background": "light"
     },
     "output_type": "display_data"
    }
   ],
   "source": [
    "plt.scatter(np.abs(kall.flatten()),np.abs(kall_analytic.flatten()- kall.flatten())/np.abs(kall.flatten()))#,bins=40)\n",
    "plt.xscale('log')\n",
    "plt.yscale('log')\n",
    "plt.grid()\n",
    "plt.xlabel('Predicted Curvature')\n",
    "plt.ylabel('Error Curvature/Curvature')"
   ]
  },
  {
   "cell_type": "code",
   "execution_count": 49,
   "metadata": {},
   "outputs": [
    {
     "data": {
      "text/plain": [
       "(array([ 8.,  2.,  2., 13.,  6.,  8., 16., 12.,  8., 24., 25., 30., 29.,\n",
       "        35., 43., 44., 33., 37., 26., 21., 16., 18., 10.,  8.,  4., 12.,\n",
       "         6.,  6.,  0.,  8.,  3.,  0.,  6.,  2.,  3.,  0.,  1.,  2.,  0.,\n",
       "         2.]),\n",
       " array([-1.05464615e-06, -9.78782935e-07, -9.02919716e-07, -8.27056498e-07,\n",
       "        -7.51193279e-07, -6.75330060e-07, -5.99466841e-07, -5.23603622e-07,\n",
       "        -4.47740403e-07, -3.71877184e-07, -2.96013966e-07, -2.20150747e-07,\n",
       "        -1.44287528e-07, -6.84243091e-08,  7.43890976e-09,  8.33021286e-08,\n",
       "         1.59165347e-07,  2.35028566e-07,  3.10891785e-07,  3.86755004e-07,\n",
       "         4.62618223e-07,  5.38481442e-07,  6.14344661e-07,  6.90207879e-07,\n",
       "         7.66071098e-07,  8.41934317e-07,  9.17797536e-07,  9.93660755e-07,\n",
       "         1.06952397e-06,  1.14538719e-06,  1.22125041e-06,  1.29711363e-06,\n",
       "         1.37297685e-06,  1.44884007e-06,  1.52470329e-06,  1.60056651e-06,\n",
       "         1.67642972e-06,  1.75229294e-06,  1.82815616e-06,  1.90401938e-06,\n",
       "         1.97988260e-06]),\n",
       " <BarContainer object of 40 artists>)"
      ]
     },
     "execution_count": 49,
     "metadata": {},
     "output_type": "execute_result"
    },
    {
     "data": {
      "image/png": "[encoded data removed]",
      "text/plain": [
       "<Figure size 432x288 with 1 Axes>"
      ]
     },
     "metadata": {
      "needs_background": "light"
     },
     "output_type": "display_data"
    }
   ],
   "source": [
    "plt.hist((kall_analytic.flatten()- kall.flatten())/kall.flatten(),bins=40)"
   ]
  },
  {
   "cell_type": "code",
   "execution_count": 30,
   "metadata": {},
   "outputs": [
    {
     "data": {
      "text/plain": [
       "Text(0, 0.5, 'Numerical calculation of curvature')"
      ]
     },
     "execution_count": 30,
     "metadata": {},
     "output_type": "execute_result"
    },
    {
     "data": {
      "image/png": "[encoded data removed]",
      "text/plain": [
       "<Figure size 576x576 with 1 Axes>"
      ]
     },
     "metadata": {
      "needs_background": "light"
     },
     "output_type": "display_data"
    }
   ],
   "source": [
    "plt.figure(figsize=[8,8])\n",
    "plt.scatter(kall_analytic.flatten(), kall)\n",
    "plt.plot([-3,0],[-3,0],'r')\n",
    "plt.axis('equal')\n",
    "plt.grid()\n",
    "plt.xlabel('Ground truth curvautre, single-sheet hyperboloid')\n",
    "plt.ylabel('Numerical calculation of curvature')\n",
    "# plt.ylim([-.00003,.00003])"
   ]
  },
  {
   "cell_type": "code",
   "execution_count": 28,
   "metadata": {},
   "outputs": [],
   "source": [
    "# %matplotlib notebook"
   ]
  },
  {
   "cell_type": "code",
   "execution_count": 40,
   "metadata": {},
   "outputs": [
    {
     "data": {
      "text/plain": [
       "Text(0, 0.5, 'Numerical calculation of curvature')"
      ]
     },
     "execution_count": 40,
     "metadata": {},
     "output_type": "execute_result"
    },
    {
     "data": {
      "image/png": "[encoded data removed]",
      "text/plain": [
       "<Figure size 576x576 with 1 Axes>"
      ]
     },
     "metadata": {
      "needs_background": "light"
     },
     "output_type": "display_data"
    }
   ],
   "source": [
    "plt.figure(figsize=[8,8])\n",
    "plt.plot([0,3],[0,3],'r')\n",
    "plt.scatter(np.abs(kall_analytic.flatten()), np.abs(kall),s=10,marker='o')\n",
    "# plt.\n",
    "plt.axis('equal')\n",
    "plt.grid()\n",
    "plt.xscale('log')\n",
    "plt.yscale('log')\n",
    "\n",
    "plt.xlabel('Ground truth curvautre, single-sheet hyperboloid')\n",
    "plt.ylabel('Numerical calculation of curvature')\n",
    "# plt.ylim([-.00003,.00003])"
   ]
  },
  {
   "cell_type": "code",
   "execution_count": 95,
   "metadata": {},
   "outputs": [],
   "source": [
    "def curvature_highdim(ygrad,yhess):    \n",
    "\n",
    "    sx = np.zeros([len(ygrad),len(ygrad)+1])\n",
    "    sxeye = np.eye(len(ygrad))\n",
    "\n",
    "    sx[:len(ygrad),:len(ygrad)]=sxeye\n",
    "    sx[:,len(ygrad)]=ygrad\n",
    "    print(sx)\n",
    "\n",
    "    V =  np.eye(len(ygrad))\n",
    "    xv = ygrad\n",
    "    sn0 = np.matmul(V,xv)\n",
    "    sn = np.zeros(np.shape(sn0)[0]+1)\n",
    "    sn[:-1]=sn0\n",
    "    sn[-1]=-1\n",
    "    C = sn/np.linalg.norm(sn)\n",
    "    print(C,sn)\n",
    "    FF = np.matmul(sx,sx.T)\n",
    "#     FF=np.outer(ygrad,ygrad)\n",
    "    print('ff',FF)\n",
    "\n",
    "    print('out',np.outer(ygrad,ygrad))\n",
    "    SF = np.zeros_like(FF)\n",
    "    for ii in range(len(ygrad)):\n",
    "        for jj in range(len(ygrad)):\n",
    "            zvec = np.zeros([len(ygrad)+1,1])\n",
    "            zvec[-1]=yhess[ii,jj]\n",
    "            SF[ii,jj]=np.matmul(zvec[:,0],C)\n",
    "    print(SF)\n",
    "    SO = np.linalg.lstsq(FF,SF,rcond=None)[0]\n",
    "#         SO = np.matmul(np.linalg.inv(I),II)#[0]\n",
    "    SOnan = np.max(np.isnan(SO).flatten())\n",
    "#         kd,KM=np.linalg.eig(SO);\n",
    "    kd=np.linalg.eigvals(SO);\n",
    "#         kall.append(kd[0]*kd[1])\n",
    "    kall=kd[0]*kd[1]\n",
    "    \n",
    "    return kall, SO, FF, SF"
   ]
  },
  {
   "cell_type": "code",
   "execution_count": 96,
   "metadata": {},
   "outputs": [],
   "source": [
    "xi,yi=12,12"
   ]
  },
  {
   "cell_type": "code",
   "execution_count": 97,
   "metadata": {},
   "outputs": [
    {
     "name": "stdout",
     "output_type": "stream",
     "text": [
      "[[1.         0.         1.11803401]\n",
      " [0.         1.         1.11803401]]\n",
      "[ 0.59761431  0.59761431 -0.53452248] [ 1.11803401  1.11803401 -1.        ]\n",
      "ff [[2.25000004 1.25000004]\n",
      " [1.25000004 2.25000004]]\n",
      "out [[1.25000004 1.25000004]\n",
      " [1.25000004 1.25000004]]\n",
      "[[-0.44821068  0.74701793]\n",
      " [ 0.74701793 -0.44821068]]\n"
     ]
    }
   ],
   "source": [
    "kallhd, SO, FF, SF = curvature_highdim(ygrad[xi,yi,:],np.reshape(yhess[xi,yi,:],[2,2]))"
   ]
  },
  {
   "cell_type": "code",
   "execution_count": 93,
   "metadata": {},
   "outputs": [
    {
     "data": {
      "text/plain": [
       "array([[1.25000004, 1.25000004],\n",
       "       [1.25000004, 1.25000004]])"
      ]
     },
     "execution_count": 93,
     "metadata": {},
     "output_type": "execute_result"
    }
   ],
   "source": [
    "FF"
   ]
  },
  {
   "cell_type": "code",
   "execution_count": 94,
   "metadata": {},
   "outputs": [
    {
     "data": {
      "text/plain": [
       "(0.0, -0.10204081632653063, -0.10204084768238116)"
      ]
     },
     "execution_count": 94,
     "metadata": {},
     "output_type": "execute_result"
    }
   ],
   "source": [
    "kallhd,kall_analytic[xi,yi],kall[xi,yi]"
   ]
  },
  {
   "cell_type": "code",
   "execution_count": null,
   "metadata": {},
   "outputs": [],
   "source": []
  },
  {
   "cell_type": "code",
   "execution_count": 97,
   "metadata": {},
   "outputs": [
    {
     "data": {
      "text/plain": [
       "-0.10204084768238089"
      ]
     },
     "execution_count": 97,
     "metadata": {},
     "output_type": "execute_result"
    }
   ],
   "source": [
    "kallhd"
   ]
  },
  {
   "cell_type": "code",
   "execution_count": 94,
   "metadata": {},
   "outputs": [
    {
     "data": {
      "text/plain": [
       "-0.10204081632653063"
      ]
     },
     "execution_count": 94,
     "metadata": {},
     "output_type": "execute_result"
    }
   ],
   "source": [
    "kall_analytic[12,12]"
   ]
  },
  {
   "cell_type": "code",
   "execution_count": null,
   "metadata": {},
   "outputs": [],
   "source": [
    "\n",
    "[[0.4482106825905703, -0.7470179317577069], [-0.7470179317577069, 0.4482106825905703]]"
   ]
  },
  {
   "cell_type": "code",
   "execution_count": 92,
   "metadata": {},
   "outputs": [
    {
     "data": {
      "text/plain": [
       "0.4482106788416285"
      ]
     },
     "execution_count": 92,
     "metadata": {},
     "output_type": "execute_result"
    }
   ],
   "source": [
    ".83852541*.7470179317/1.3975426 "
   ]
  },
  {
   "cell_type": "code",
   "execution_count": 39,
   "metadata": {},
   "outputs": [],
   "source": [
    "# from mpl_toolkits.mplot3d import Axes3D  # noqa: F401 unused import\n",
    "# import matplotlib.pyplot as plt\n",
    "\n",
    "# # %matplotlib notebook\n",
    "# # %matplotlib notebook\n",
    "# fig = plt.figure(figsize = [9,9])\n",
    "\n",
    "# ax = fig.add_subplot(111, projection='3d')\n",
    "\n",
    "# ax.scatter(xv.flatten(),yv.flatten(),zv.flatten(),c=zv.flatten())"
   ]
  },
  {
   "cell_type": "code",
   "execution_count": null,
   "metadata": {},
   "outputs": [],
   "source": [
    "# ####### MATLAB\n",
    "\n",
    "# [x1v x2v x3v] =meshgrid(-endp:intp:endp,-endp:intp:endp,-endp:intp:endp);\n",
    "# x1 = x1v(:); x2 = x2v(:); x3 = x3v(:);\n",
    "\n",
    "# sx1_1 = ones(size(x1)); sx1_2 = zeros(size(x1)); sx1_3 = zeros(size(x1)); \n",
    "# sx2_1 = zeros(size(x2)); sx2_2 = ones(size(x2)); sx2_3 = zeros(size(x2)); \n",
    "# sx3_1 = zeros(size(x3)); sx3_2 = zeros(size(x3)); sx3_3 = ones(size(x3)); \n",
    "\n",
    "# myfun = ADfun('surfgen3d',1);\n",
    "# for ind1 = 1:length(x1)\n",
    "# [f, g, H] = feval(myfun,[x1(ind1) x2(ind1) x3(ind1) ]);\n",
    "# fout(ind1) = f;\n",
    "# grad(ind1,:) = g(:);\n",
    "\n",
    "# hess(ind1,:) = H(:);\n",
    "\n",
    "# end\n",
    "# szx1 = grad(:,1);\n",
    "# szx2 = grad(:,2);\n",
    "# szx3 = grad(:,3);\n",
    "# %  \n",
    "# szx1_1 = hess(:,1); szx1_2 = hess(:,2); szx1_3 = hess(:,3); \n",
    "# szx2_1 = hess(:,4); szx2_2 = hess(:,5); szx2_3 = hess(:,6); \n",
    "# szx3_1 = hess(:,7); szx3_2 = hess(:,8); szx3_3 = hess(:,9); \n",
    "\n",
    "# sx1(:,1)=sx1_1; sx2(:,1)=sx1_2; sx3(:,1)=sx1_3; \n",
    "# sx1(:,2)=sx2_1; sx2(:,2)=sx2_2; sx3(:,2)=sx2_3; \n",
    "# sx1(:,3)=sx3_1; sx2(:,3)=sx3_2; sx3(:,3)=sx3_3; \n",
    "\n",
    "# sx1(:,4)=szx1;\n",
    "# sx2(:,4)=szx2;\n",
    "# sx3(:,4)=szx3;\n",
    "\n",
    "# for ind1 = 1:length(x1)\n",
    "# v1(1:4) = sx1(ind1,:);\n",
    "# v2(1:4) = sx2(ind1,:);\n",
    "# v3(1:4) = sx3(ind1,:);\n",
    "# V = [v1(1:3); v2(1:3); v3(1:3)];\n",
    "# xv = [v1(4); v2(4); v3(4)];\n",
    "# sn = (V)*xv; sn(4) = -1;\n",
    "# C(ind1,:) = sn./norm(sn);\n",
    "# end\n",
    "# nanctr = 0;\n",
    "\n",
    "# for ind1 = 1:length(x1)\n",
    "\n",
    "# FF =[dot(sx1(ind1,:), sx1(ind1,:)) dot(sx1(ind1,:), sx2(ind1,:)) dot(sx1(ind1,:), sx3(ind1,:)) ;...\n",
    "# dot(sx2(ind1,:), sx1(ind1,:)) dot(sx2(ind1,:), sx2(ind1,:)) dot(sx2(ind1,:), sx3(ind1,:)) ;...\n",
    "# dot(sx3(ind1,:), sx1(ind1,:)) dot(sx3(ind1,:), sx2(ind1,:)) dot(sx3(ind1,:), sx3(ind1,:)) ;...\n",
    "# ];\n",
    "# Cvect(1,:) = C(ind1,:); \n",
    "# SF =[dot([0,0,0,szx1_1(ind1)], Cvect) dot([0,0,0,szx1_2(ind1)], Cvect) dot([0,0,0,szx1_3(ind1)], Cvect) ;...\n",
    "#  dot([0,0,0,szx2_1(ind1)], Cvect) dot([0,0,0,szx2_2(ind1)], Cvect) dot([0,0,0,szx2_3(ind1)], Cvect) ;...\n",
    "#  dot([0,0,0,szx3_1(ind1)], Cvect) dot([0,0,0,szx3_2(ind1)], Cvect) dot([0,0,0,szx3_3(ind1)], Cvect) ;...\n",
    "#  ];\n",
    "# SO=FF\\SF;\n",
    "# % SO = FF'*SF*FF"
   ]
  }
 ],
 "metadata": {
  "kernelspec": {
   "display_name": "conda_pytorch_p36",
   "language": "python",
   "name": "conda_pytorch_p36"
  },
  "language_info": {
   "codemirror_mode": {
    "name": "ipython",
    "version": 3
   },
   "file_extension": ".py",
   "mimetype": "text/x-python",
   "name": "python",
   "nbconvert_exporter": "python",
   "pygments_lexer": "ipython3",
   "version": "3.6.13"
  }
 },
 "nbformat": 4,
 "nbformat_minor": 4
}
