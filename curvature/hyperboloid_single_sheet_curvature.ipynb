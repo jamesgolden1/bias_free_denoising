{
 "cells": [
  {
   "cell_type": "code",
   "execution_count": 1,
   "metadata": {},
   "outputs": [],
   "source": [
    "import torch\n",
    "\n",
    "from torch.autograd import grad"
   ]
  },
  {
   "cell_type": "code",
   "execution_count": 2,
   "metadata": {},
   "outputs": [],
   "source": [
    "x = torch.autograd.Variable(torch.Tensor([2,1]),requires_grad=True)\n",
    "# z = torch.autograd.Variable(torch.Tensor([1]),requires_grad=True)\n",
    "# y = 5*x**4 + 3*x**3 + 7*x**2 + 9*x - 5\n",
    "\n",
    "# y.backward()\n",
    "# x.grad"
   ]
  },
  {
   "cell_type": "code",
   "execution_count": 3,
   "metadata": {},
   "outputs": [
    {
     "data": {
      "text/plain": [
       "tensor([2., 1.], requires_grad=True)"
      ]
     },
     "execution_count": 3,
     "metadata": {},
     "output_type": "execute_result"
    }
   ],
   "source": [
    "x"
   ]
  },
  {
   "cell_type": "code",
   "execution_count": 4,
   "metadata": {},
   "outputs": [],
   "source": [
    "y = torch.sqrt_(x[0]**2 + x[1]**2 - 1)"
   ]
  },
  {
   "cell_type": "code",
   "execution_count": 13,
   "metadata": {},
   "outputs": [
    {
     "data": {
      "text/plain": [
       "tensor(2., grad_fn=<SqrtBackward>)"
      ]
     },
     "execution_count": 13,
     "metadata": {},
     "output_type": "execute_result"
    }
   ],
   "source": [
    "y"
   ]
  },
  {
   "cell_type": "code",
   "execution_count": 6,
   "metadata": {},
   "outputs": [],
   "source": [
    "\n",
    "# y.backward(retain_graph=True)\n",
    "# x.grad\n",
    "\n",
    "x_1grad, = grad(y, x, create_graph=True,retain_graph=True)"
   ]
  },
  {
   "cell_type": "code",
   "execution_count": 7,
   "metadata": {},
   "outputs": [
    {
     "data": {
      "text/plain": [
       "tensor([1.0000, 0.5000], grad_fn=<AddBackward0>)"
      ]
     },
     "execution_count": 7,
     "metadata": {},
     "output_type": "execute_result"
    }
   ],
   "source": [
    "x_1grad"
   ]
  },
  {
   "cell_type": "code",
   "execution_count": 10,
   "metadata": {},
   "outputs": [],
   "source": [
    "\n",
    "x_2grad0, = grad(x_1grad[0], x, create_graph=True)\n",
    "x_2grad1, = grad(x_1grad[1], x, create_graph=True)"
   ]
  },
  {
   "cell_type": "code",
   "execution_count": 12,
   "metadata": {},
   "outputs": [
    {
     "data": {
      "text/plain": [
       "(tensor([1.0000, 0.5000], grad_fn=<AddBackward0>),\n",
       " tensor([ 0.0000, -0.2500], grad_fn=<AddBackward0>),\n",
       " tensor([-0.2500,  0.3750], grad_fn=<AddBackward0>))"
      ]
     },
     "execution_count": 12,
     "metadata": {},
     "output_type": "execute_result"
    }
   ],
   "source": [
    "x_1grad,x_2grad0,x_2grad1"
   ]
  },
  {
   "cell_type": "code",
   "execution_count": 9,
   "metadata": {},
   "outputs": [
    {
     "data": {
      "text/plain": [
       "6"
      ]
     },
     "execution_count": 9,
     "metadata": {},
     "output_type": "execute_result"
    }
   ],
   "source": [
    "9-3"
   ]
  },
  {
   "cell_type": "code",
   "execution_count": 15,
   "metadata": {},
   "outputs": [
    {
     "data": {
      "text/plain": [
       "tensor([1.])"
      ]
     },
     "execution_count": 15,
     "metadata": {},
     "output_type": "execute_result"
    }
   ],
   "source": [
    "\n",
    "y.backward()\n",
    "x.grad"
   ]
  },
  {
   "cell_type": "code",
   "execution_count": 1,
   "metadata": {},
   "outputs": [
    {
     "name": "stdout",
     "output_type": "stream",
     "text": [
      "tensor([[1., 2.],\n",
      "        [3., 4.]])\n",
      "tensor([[1.],\n",
      "        [1.]], requires_grad=True)\n",
      "tensor([10.], grad_fn=<SqueezeBackward3>)\n",
      "tensor([[ 7.],\n",
      "        [13.]], grad_fn=<AddBackward0>)\n",
      "tensor([[ 7.],\n",
      "        [13.]], grad_fn=<AddBackward0>)\n",
      "tensor([[2., 5.],\n",
      "        [5., 8.]])\n",
      "tensor([[2., 5.],\n",
      "        [5., 8.]])\n"
     ]
    }
   ],
   "source": [
    "import torch\n",
    "from torch import Tensor\n",
    "from torch.autograd import Variable\n",
    "from torch.autograd import grad\n",
    "from torch import nn\n",
    "\n",
    "torch.manual_seed(623)\n",
    "\n",
    "x = Variable(torch.ones(2,1), requires_grad=True)\n",
    "A = torch.FloatTensor([[1,2],[3,4]])\n",
    "\n",
    "print(A)\n",
    "print(x)\n",
    "\n",
    "f = x.view(-1) @ A @ x\n",
    "print(f)\n",
    "\n",
    "\n",
    "x_1grad, = grad(f, x, create_graph=True)\n",
    "print(x_1grad)\n",
    "print(A @ x + A.t() @ x)\n",
    "\n",
    "x_2grad0, = grad(x_1grad[0], x, create_graph=True)\n",
    "x_2grad1, = grad(x_1grad[1], x, create_graph=True)\n",
    "\n",
    "Hessian = torch.cat((x_2grad0, x_2grad1), dim=1)\n",
    "print(Hessian)\n",
    "\n",
    "print(A + A.t())"
   ]
  },
  {
   "cell_type": "code",
   "execution_count": 2,
   "metadata": {},
   "outputs": [
    {
     "data": {
      "text/plain": [
       "tensor([10.], grad_fn=<SqueezeBackward3>)"
      ]
     },
     "execution_count": 2,
     "metadata": {},
     "output_type": "execute_result"
    }
   ],
   "source": [
    "f"
   ]
  },
  {
   "cell_type": "code",
   "execution_count": null,
   "metadata": {},
   "outputs": [],
   "source": []
  }
 ],
 "metadata": {
  "kernelspec": {
   "display_name": "conda_pytorch_p36",
   "language": "python",
   "name": "conda_pytorch_p36"
  },
  "language_info": {
   "codemirror_mode": {
    "name": "ipython",
    "version": 3
   },
   "file_extension": ".py",
   "mimetype": "text/x-python",
   "name": "python",
   "nbconvert_exporter": "python",
   "pygments_lexer": "ipython3",
   "version": "3.6.10"
  }
 },
 "nbformat": 4,
 "nbformat_minor": 2
}
